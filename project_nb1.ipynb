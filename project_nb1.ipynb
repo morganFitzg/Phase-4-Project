{
 "cells": [
  {
   "cell_type": "code",
   "execution_count": 1,
   "metadata": {},
   "outputs": [],
   "source": [
    "import pandas as pd\n",
    "import numpy as np\n",
    "import matplotlib.pyplot as plt\n",
    "import nltk\n",
    "from nltk.corpus import stopwords\n",
    "from nltk.tokenize import RegexpTokenizer\n",
    "from nltk import word_tokenize, FreqDist, regexp_tokenize\n",
    "from nltk.stem.wordnet import WordNetLemmatizer\n",
    "from nltk.stem.snowball import SnowballStemmer\n",
    "from nltk.collocations import BigramAssocMeasures\n",
    "from sklearn.feature_extraction.text import TfidfVectorizer, CountVectorizer\n",
    "from sklearn.feature_selection import SelectPercentile, mutual_info_classif, chi2\n",
    "from sklearn.naive_bayes import GaussianNB\n",
    "from sklearn.metrics import plot_confusion_matrix\n",
    "from sklearn.model_selection import train_test_split, cross_val_score\n",
    "from sklearn.linear_model import LogisticRegression\n",
    "from sklearn.pipeline import Pipeline\n",
    "from gensim.models import word2vec\n",
    "from spellchecker import SpellChecker\n",
    "from collections import Counter\n",
    "import string\n",
    "import re\n",
    "%matplotlib inline"
   ]
  },
  {
   "cell_type": "code",
   "execution_count": 2,
   "metadata": {},
   "outputs": [
    {
     "name": "stderr",
     "output_type": "stream",
     "text": [
      "[nltk_data] Downloading package wordnet to\n",
      "[nltk_data]     /Users/morgandj/nltk_data...\n",
      "[nltk_data]   Package wordnet is already up-to-date!\n",
      "[nltk_data] Downloading package stopwords to\n",
      "[nltk_data]     /Users/morgandj/nltk_data...\n",
      "[nltk_data]   Package stopwords is already up-to-date!\n"
     ]
    },
    {
     "data": {
      "text/plain": [
       "True"
      ]
     },
     "execution_count": 2,
     "metadata": {},
     "output_type": "execute_result"
    }
   ],
   "source": [
    "import nltk\n",
    "nltk.download('wordnet')\n",
    "nltk.download('stopwords')"
   ]
  },
  {
   "cell_type": "markdown",
   "metadata": {},
   "source": [
    "# Data Exploration #"
   ]
  },
  {
   "cell_type": "code",
   "execution_count": 3,
   "metadata": {},
   "outputs": [],
   "source": [
    "file='movie.csv'\n",
    "df=pd.read_csv(file)"
   ]
  },
  {
   "cell_type": "code",
   "execution_count": 4,
   "metadata": {},
   "outputs": [
    {
     "data": {
      "text/html": [
       "<div>\n",
       "<style scoped>\n",
       "    .dataframe tbody tr th:only-of-type {\n",
       "        vertical-align: middle;\n",
       "    }\n",
       "\n",
       "    .dataframe tbody tr th {\n",
       "        vertical-align: top;\n",
       "    }\n",
       "\n",
       "    .dataframe thead th {\n",
       "        text-align: right;\n",
       "    }\n",
       "</style>\n",
       "<table border=\"1\" class=\"dataframe\">\n",
       "  <thead>\n",
       "    <tr style=\"text-align: right;\">\n",
       "      <th></th>\n",
       "      <th>text</th>\n",
       "      <th>label</th>\n",
       "    </tr>\n",
       "  </thead>\n",
       "  <tbody>\n",
       "    <tr>\n",
       "      <th>0</th>\n",
       "      <td>I grew up (b. 1965) watching and loving the Th...</td>\n",
       "      <td>0</td>\n",
       "    </tr>\n",
       "    <tr>\n",
       "      <th>1</th>\n",
       "      <td>When I put this movie in my DVD player, and sa...</td>\n",
       "      <td>0</td>\n",
       "    </tr>\n",
       "    <tr>\n",
       "      <th>2</th>\n",
       "      <td>Why do people who do not know what a particula...</td>\n",
       "      <td>0</td>\n",
       "    </tr>\n",
       "    <tr>\n",
       "      <th>3</th>\n",
       "      <td>Even though I have great interest in Biblical ...</td>\n",
       "      <td>0</td>\n",
       "    </tr>\n",
       "    <tr>\n",
       "      <th>4</th>\n",
       "      <td>Im a die hard Dads Army fan and nothing will e...</td>\n",
       "      <td>1</td>\n",
       "    </tr>\n",
       "  </tbody>\n",
       "</table>\n",
       "</div>"
      ],
      "text/plain": [
       "                                                text  label\n",
       "0  I grew up (b. 1965) watching and loving the Th...      0\n",
       "1  When I put this movie in my DVD player, and sa...      0\n",
       "2  Why do people who do not know what a particula...      0\n",
       "3  Even though I have great interest in Biblical ...      0\n",
       "4  Im a die hard Dads Army fan and nothing will e...      1"
      ]
     },
     "execution_count": 4,
     "metadata": {},
     "output_type": "execute_result"
    }
   ],
   "source": [
    "df.head()"
   ]
  },
  {
   "cell_type": "code",
   "execution_count": 5,
   "metadata": {},
   "outputs": [
    {
     "data": {
      "text/plain": [
       "0    20019\n",
       "1    19981\n",
       "Name: label, dtype: int64"
      ]
     },
     "execution_count": 5,
     "metadata": {},
     "output_type": "execute_result"
    }
   ],
   "source": [
    "df['label'].value_counts()"
   ]
  },
  {
   "cell_type": "code",
   "execution_count": 6,
   "metadata": {},
   "outputs": [],
   "source": [
    "text=df['text'].str.lower()\n",
    "labels=df['label']\n",
    "X_train, X_test, y_train, y_test = train_test_split(text,labels,test_size=.2,random_state=20)"
   ]
  },
  {
   "cell_type": "code",
   "execution_count": 7,
   "metadata": {},
   "outputs": [
    {
     "data": {
      "text/plain": [
       "36862    ok, here it is: \"nazi mountaineer befriends th...\n",
       "11768    romance is in the air and love is in bloom in ...\n",
       "36393    this film is described as a action/comedy. the...\n",
       "12031    i love the satan pit!!! david tennant is such ...\n",
       "27211    i could never stand watching happy days after ...\n",
       "Name: text, dtype: object"
      ]
     },
     "execution_count": 7,
     "metadata": {},
     "output_type": "execute_result"
    }
   ],
   "source": [
    "X_train.head()"
   ]
  },
  {
   "cell_type": "code",
   "execution_count": 8,
   "metadata": {},
   "outputs": [],
   "source": [
    "stopwords_list=stopwords.words('english')\n",
    "stopwords_list.append('br')\n",
    "remove=['up','down','didn',\"didn't\",'wasn',\"wasn't\",'wouldn',\"wouldn't\"]\n",
    "for word in remove:\n",
    "    stopwords_list.remove(word)"
   ]
  },
  {
   "cell_type": "markdown",
   "metadata": {},
   "source": [
    "### Tokenize ###"
   ]
  },
  {
   "cell_type": "code",
   "execution_count": 9,
   "metadata": {},
   "outputs": [],
   "source": [
    "pattern = \"([a-zA-Z]+(?:'[a-z]+)?)\"\n",
    "\n",
    "tokenizer=RegexpTokenizer(pattern)\n",
    "tokenized_train=X_train.apply(tokenizer.tokenize)"
   ]
  },
  {
   "cell_type": "code",
   "execution_count": 10,
   "metadata": {},
   "outputs": [],
   "source": [
    "def remove_stopwords(token_list):\n",
    "    \"\"\"\n",
    "    Given a list of tokens, return a list where the tokens\n",
    "    that are also present in stopwords_list have been\n",
    "    removed\n",
    "    \"\"\"\n",
    "    stopwords_removed = [token for token in token_list if token not in stopwords_list]\n",
    "    return stopwords_removed"
   ]
  },
  {
   "cell_type": "code",
   "execution_count": 11,
   "metadata": {},
   "outputs": [],
   "source": [
    "ns_tk_train=tokenized_train.apply(remove_stopwords)"
   ]
  },
  {
   "cell_type": "code",
   "execution_count": 12,
   "metadata": {},
   "outputs": [
    {
     "data": {
      "text/plain": [
       "36862    [ok, here, it, is, nazi, mountaineer, befriend...\n",
       "11768    [romance, is, in, the, air, and, love, is, in,...\n",
       "36393    [this, film, is, described, as, a, action, com...\n",
       "12031    [i, love, the, satan, pit, david, tennant, is,...\n",
       "27211    [i, could, never, stand, watching, happy, days...\n",
       "Name: text, dtype: object"
      ]
     },
     "execution_count": 12,
     "metadata": {},
     "output_type": "execute_result"
    }
   ],
   "source": [
    "tokenized_train.head()"
   ]
  },
  {
   "cell_type": "code",
   "execution_count": 13,
   "metadata": {},
   "outputs": [
    {
     "data": {
      "text/plain": [
       "36862    [ok, nazi, mountaineer, befriends, dalai, lama...\n",
       "11768    [romance, air, love, bloom, victorian, era, en...\n",
       "36393    [film, described, action, comedy, first, minut...\n",
       "12031    [love, satan, pit, david, tennant, great, acto...\n",
       "27211    [could, never, stand, watching, happy, days, c...\n",
       "Name: text, dtype: object"
      ]
     },
     "execution_count": 13,
     "metadata": {},
     "output_type": "execute_result"
    }
   ],
   "source": [
    "ns_tk_train.head()"
   ]
  },
  {
   "cell_type": "code",
   "execution_count": 14,
   "metadata": {},
   "outputs": [],
   "source": [
    "new_df=pd.concat([tokenized_train,ns_tk_train,y_train],axis=1)\n",
    "new_df.columns=['token','no-stop','label']"
   ]
  },
  {
   "cell_type": "code",
   "execution_count": 15,
   "metadata": {},
   "outputs": [],
   "source": [
    "pos_reviews=new_df[new_df['label']==1]\n",
    "neg_reviews=new_df[new_df['label']==0]"
   ]
  },
  {
   "cell_type": "code",
   "execution_count": 16,
   "metadata": {},
   "outputs": [],
   "source": [
    "#Get Freq distributions for tokens w/ and w/o stopwords and compare top words\n",
    "pos_freq = FreqDist(pos_reviews['token'].explode()).most_common(10)\n",
    "pos_ns_freq = FreqDist(pos_reviews['no-stop'].explode()).most_common(10)\n",
    "neg_freq = FreqDist(neg_reviews['token'].explode()).most_common(10)\n",
    "neg_ns_freq = FreqDist(neg_reviews['no-stop'].explode()).most_common(10)\n",
    "freqs=[pos_freq,pos_ns_freq,neg_freq,neg_ns_freq]"
   ]
  },
  {
   "cell_type": "code",
   "execution_count": 17,
   "metadata": {},
   "outputs": [
    {
     "data": {
      "text/plain": [
       "90425"
      ]
     },
     "execution_count": 17,
     "metadata": {},
     "output_type": "execute_result"
    }
   ],
   "source": [
    "#total number of words in all reviews after stop words removed\n",
    "fd=FreqDist(new_df['no-stop'].explode())\n",
    "len(fd)"
   ]
  },
  {
   "cell_type": "code",
   "execution_count": 18,
   "metadata": {},
   "outputs": [
    {
     "data": {
      "image/png": "[encoded data removed]",
      "text/plain": [
       "<Figure size 1080x576 with 4 Axes>"
      ]
     },
     "metadata": {
      "needs_background": "light"
     },
     "output_type": "display_data"
    }
   ],
   "source": [
    "#Plot distributions for comparison\n",
    "fig,axes=plt.subplots(2,2,figsize=(15,8))\n",
    "titles=['Pos All','Pos No Stop','Neg All','Neg No Stop']\n",
    "\n",
    "for count,ax in enumerate(axes.flatten()):\n",
    "    x=[tup[0] for tup in freqs[count]]\n",
    "    y=[tup[1] for tup in freqs[count]]\n",
    "    ax.bar(x,y)\n",
    "    ax.set_title(titles[count])\n"
   ]
  },
  {
   "cell_type": "markdown",
   "metadata": {},
   "source": [
    "Need to investigate the token 'br'. Probably denotes a line break and shouldn't be included.\n",
    "\n",
    "It appears that removing stop words helps differentiate between pos and neg reviews.  However, many of the top ten words are the same so we will need to train the model on a larger selection.  After removing stop words there are over 90k words in all the ratings so we will have to find a balance between reducing dimensionality and including enough training info."
   ]
  },
  {
   "cell_type": "code",
   "execution_count": 19,
   "metadata": {},
   "outputs": [
    {
     "data": {
      "text/html": [
       "<div>\n",
       "<style scoped>\n",
       "    .dataframe tbody tr th:only-of-type {\n",
       "        vertical-align: middle;\n",
       "    }\n",
       "\n",
       "    .dataframe tbody tr th {\n",
       "        vertical-align: top;\n",
       "    }\n",
       "\n",
       "    .dataframe thead th {\n",
       "        text-align: right;\n",
       "    }\n",
       "</style>\n",
       "<table border=\"1\" class=\"dataframe\">\n",
       "  <thead>\n",
       "    <tr style=\"text-align: right;\">\n",
       "      <th></th>\n",
       "      <th>token</th>\n",
       "      <th>no-stop</th>\n",
       "      <th>label</th>\n",
       "      <th>contains_br</th>\n",
       "    </tr>\n",
       "  </thead>\n",
       "  <tbody>\n",
       "  </tbody>\n",
       "</table>\n",
       "</div>"
      ],
      "text/plain": [
       "Empty DataFrame\n",
       "Columns: [token, no-stop, label, contains_br]\n",
       "Index: []"
      ]
     },
     "execution_count": 19,
     "metadata": {},
     "output_type": "execute_result"
    }
   ],
   "source": [
    "new_df['contains_br']=new_df['no-stop'].apply(lambda x: 1 if 'br' in x else 0)\n",
    "contains_br=new_df[new_df['contains_br']==1]\n",
    "contains_br.head()"
   ]
  },
  {
   "cell_type": "markdown",
   "metadata": {},
   "source": [
    "Its clear that br is indicating line breaks. We'll remove this from all the token lists."
   ]
  },
  {
   "cell_type": "code",
   "execution_count": 20,
   "metadata": {},
   "outputs": [],
   "source": [
    "tokens_train=ns_tk_train.apply(lambda tok_list: [tok for tok in tok_list if tok!='br'])"
   ]
  },
  {
   "cell_type": "code",
   "execution_count": 21,
   "metadata": {},
   "outputs": [
    {
     "data": {
      "text/plain": [
       "Text(0.5, 1.0, 'negative')"
      ]
     },
     "execution_count": 21,
     "metadata": {},
     "output_type": "execute_result"
    },
    {
     "data": {
      "image/png": "[encoded data removed]",
      "text/plain": [
       "<Figure size 1080x576 with 2 Axes>"
      ]
     },
     "metadata": {
      "needs_background": "light"
     },
     "output_type": "display_data"
    }
   ],
   "source": [
    "#redo top freq charts\n",
    "tok_df=pd.concat([tokens_train,y_train],axis=1)\n",
    "tok_df.columns=['token','label']\n",
    "pos=tok_df[tok_df['label']==1]\n",
    "neg=tok_df[tok_df['label']==0]\n",
    "pos_fd=FreqDist(pos['token'].explode()).most_common(20)\n",
    "neg_fd=FreqDist(neg['token'].explode()).most_common(20)\n",
    "\n",
    "fig,axes=plt.subplots(2,figsize=(15,8))\n",
    "\n",
    "pos_x=[tup[0] for tup in pos_fd]\n",
    "pos_y=[tup[1] for tup in pos_fd]\n",
    "neg_x=[tup[0] for tup in neg_fd]\n",
    "neg_y=[tup[1] for tup in neg_fd]\n",
    "\n",
    "axes[0].bar(pos_x,pos_y)\n",
    "axes[0].set_title('positive')\n",
    "axes[1].bar(neg_x,neg_y)\n",
    "axes[1].set_title('negative')"
   ]
  },
  {
   "cell_type": "markdown",
   "metadata": {},
   "source": [
    "There is not a huge difference between the top 20 words in the corpus. We'll use more for the model, but this could also indicate the importance of using bigrams to indicate how words are used together or using sequences."
   ]
  },
  {
   "cell_type": "markdown",
   "metadata": {},
   "source": [
    "# Preprocess"
   ]
  },
  {
   "cell_type": "code",
   "execution_count": 22,
   "metadata": {},
   "outputs": [],
   "source": [
    "def correct_spelling(tokens):\n",
    "    spell=SpellChecker()\n",
    "    fixed=[spell.correction(t) if len(spell.unknown([t]))>0 else t for t in tokens]\n",
    "    return fixed"
   ]
  },
  {
   "cell_type": "code",
   "execution_count": 23,
   "metadata": {},
   "outputs": [],
   "source": [
    "class W2vVectorizer(object):\n",
    "    \n",
    "    def __init__(self, w2v):\n",
    "        # Takes in a dictionary of words and vectors as input\n",
    "        self.w2v = w2v\n",
    "        if len(w2v) == 0:\n",
    "            self.dimensions = 0\n",
    "        else:\n",
    "            self.dimensions = len(w2v[next(iter(w2v))])\n",
    "    \n",
    "    # Note: Even though it doesn't do anything, it's required that this object implement a fit method or else\n",
    "    # it can't be used in a scikit-learn pipeline  \n",
    "    def fit(self, X, y):\n",
    "        return self\n",
    "            \n",
    "    def transform(self, X):\n",
    "        return np.array([\n",
    "            np.mean([self.w2v[w] for w in words if w in self.w2v]\n",
    "                   or [np.zeros(self.dimensions)], axis=0) for words in X])"
   ]
  },
  {
   "cell_type": "code",
   "execution_count": 24,
   "metadata": {},
   "outputs": [
    {
     "ename": "SyntaxError",
     "evalue": "invalid syntax (<ipython-input-24-a123f98cfa53>, line 1)",
     "output_type": "error",
     "traceback": [
      "\u001b[0;36m  File \u001b[0;32m\"<ipython-input-24-a123f98cfa53>\"\u001b[0;36m, line \u001b[0;32m1\u001b[0m\n\u001b[0;31m    glove=\u001b[0m\n\u001b[0m          ^\u001b[0m\n\u001b[0;31mSyntaxError\u001b[0m\u001b[0;31m:\u001b[0m invalid syntax\n"
     ]
    }
   ],
   "source": [
    "glove=\n",
    "w2v=W2vVectorizer()"
   ]
  },
  {
   "cell_type": "code",
   "execution_count": null,
   "metadata": {},
   "outputs": [],
   "source": [
    "class Preprocess(object):\n",
    "    \n",
    "    def __init__(self, \n",
    "                 vector='count', \n",
    "                 stemming=None,\n",
    "                 spell_check=False,\n",
    "                n_grams=(1,1),\n",
    "                max_df=1.0,\n",
    "                 max_feat=None,\n",
    "                chi_percent=None,\n",
    "                glove_file=None):\n",
    "        #defines how the text will be preprocessed\n",
    "        \n",
    "        self.vector_ = vector \n",
    "        #can be 'count','tfidf',or 'embedding'\n",
    "        self.stemming_=stemming\n",
    "        #can be 'None','stem','lemmatize'\n",
    "        self.spell_check_=spell_check\n",
    "        #True or False\n",
    "        self.n_grams_=n_grams\n",
    "        #n_gram to pass to tokenizer like (1,1) or (1,2)\n",
    "        self.max_df_=max_df\n",
    "        #positive float less than or equal to 1.0, to pass to vectorizer\n",
    "        self.max_features_=max_feat\n",
    "        self.chi_percent_=chi_percent\n",
    "        #positive integer less than 100, percent features to keep if filtering with chi2\n",
    "        #None if no filtering\n",
    "        self.glove_file_=glove_file\n",
    "        #None if using count or tfidf, glove file for word embeddings\n",
    "         \n",
    "    def fit(self, X, y):\n",
    "        \n",
    "        \n",
    "        return self\n",
    "            \n",
    "    def tokenize(self,text):\n",
    "        pattern = \"([a-zA-Z]+(?:'[a-z]+)?)\"\n",
    "        tokenizer=RegexpTokenizer(pattern)\n",
    "        tokens=tokenizer.tokenize(text)\n",
    "        \n",
    "        if self.spell_check_==True:\n",
    "            tokens=correct_spelling(tokens)\n",
    "        \n",
    "        if self.stemming_=='lemmatize':\n",
    "            stems = []\n",
    "            wnl=WordNetLemmatizer()\n",
    "            for item in tokens:\n",
    "                stems.append(wnl.lemmatize(item))\n",
    "                \n",
    "        elif self.stemming_=='stem':\n",
    "            stems=[]\n",
    "            stemmer=SnowballStemmer('english')\n",
    "            for item in tokens:\n",
    "                stems.append(stemmer.stem(item))\n",
    "        \n",
    "        else:\n",
    "            stems=tokens\n",
    "        return stems\n",
    "    \n",
    "    def filter_words_by_count(self,X,tokenized):\n",
    "    \n",
    "        vectorizer=CountVectorizer(stop_words=stopwords_list,\n",
    "                                   max_df=self.max_df_,\n",
    "                                   min_df=5)\n",
    "        vectorizer.fit(X)\n",
    "\n",
    "        #filter out words\n",
    "        words_to_keep=vectorizer.vocabulary_.keys()\n",
    "        filtered_data=tokenized.apply(lambda tok: [w for w in tok if w in words_to_keep])\n",
    "\n",
    "        return filtered_data\n",
    "    \n",
    "    def build_glove(self,tokens):\n",
    "        total_vocab=set([word for review in tokens for word in review])\n",
    "        glove = {}\n",
    "        #count=0\n",
    "        #words=[]\n",
    "        with open(self.glove_file_, 'rb') as f:\n",
    "            for line in f:\n",
    "                parts = line.split()\n",
    "                word = parts[0].decode('utf-8')\n",
    "                if word in total_vocab:\n",
    "                    vector = np.array(parts[1:], dtype=np.float32)\n",
    "                    glove[word] = vector\n",
    "                    #count+=1\n",
    "                    #words.append(word)\n",
    "        return glove\n",
    "\n",
    "    def transform(self, X, y):\n",
    "        \n",
    "        #tokenize according to inputs\n",
    "\n",
    "        \n",
    "        if self.vector_=='count':\n",
    "            \n",
    "            vectorizer=CountVectorizer(stop_words=stopwords_list,\n",
    "                                       max_features=self.max_features_,\n",
    "                                       tokenizer=self.tokenize,\n",
    "                                       ngram_range=self.n_grams_,\n",
    "                                       min_df=5,\n",
    "                                       max_df=self.max_df_\n",
    "                                      )\n",
    "            tokens=vectorizer.fit_transform(X).toarray()\n",
    "        \n",
    "        elif self.vector_=='tfidf':\n",
    "            \n",
    "            vectorizer=TfidfVectorizer(stop_words=stopwords_list,\n",
    "                                       max_features=self.max_features_,\n",
    "                                       tokenizer=self.tokenize,\n",
    "                                       ngram_range=self.n_grams_,\n",
    "                                       min_df=5,\n",
    "                                       max_df=self.max_df_\n",
    "                                      )\n",
    "            tokens=vectorizer.fit_transform(X).toarray()\n",
    "            \n",
    "        elif self.vector_=='embedding':\n",
    "            tokenized=X.apply(self.tokenize)\n",
    "            filtered=self.filter_words_by_count(X,tokenized)\n",
    "            glove=self.build_glove(filtered)\n",
    "            w2v=W2vVectorizer(glove)\n",
    "            tokens=w2v.transform(filtered)\n",
    "            \n",
    "        if (self.chi_percent_ != None) and (self.vector_ != 'embedding'):\n",
    "            \n",
    "            selector=SelectPercentile(chi2,percentile=self.chi_percent_)\n",
    "            selected=selector.fit_transform(tokens,y)\n",
    "            tokens=selected\n",
    "        \n",
    "        return tokens\n"
   ]
  },
  {
   "cell_type": "code",
   "execution_count": 95,
   "metadata": {},
   "outputs": [
    {
     "name": "stderr",
     "output_type": "stream",
     "text": [
      "/opt/anaconda3/envs/learn-env/lib/python3.8/site-packages/sklearn/feature_extraction/text.py:383: UserWarning: Your stop_words may be inconsistent with your preprocessing. Tokenizing the stop words generated tokens ['abov', 'ani', 'becaus', 'befor', 'doe', 'dure', 'onc', 'onli', 'ourselv', \"should'v\", 'themselv', 'veri', 'whi', \"you'r\", \"you'v\", 'yourselv'] not in stop_words.\n",
      "  warnings.warn('Your stop_words may be inconsistent with '\n"
     ]
    }
   ],
   "source": [
    "pp=Preprocess(vector='tfidf', \n",
    "                 stemming='stem',\n",
    "                 spell_check=False,\n",
    "                n_grams=(1,1),\n",
    "                max_df=.5,\n",
    "                chi_percent=None,\n",
    "                glove_file='glove.6B.300d.txt')\n",
    "\n",
    "train_tokens=pp.transform(X_train,y_train)\n"
   ]
  },
  {
   "cell_type": "code",
   "execution_count": 96,
   "metadata": {},
   "outputs": [
    {
     "data": {
      "text/plain": [
       "(32000, 19934)"
      ]
     },
     "execution_count": 96,
     "metadata": {},
     "output_type": "execute_result"
    }
   ],
   "source": [
    "train_tokens.shape"
   ]
  },
  {
   "cell_type": "code",
   "execution_count": 94,
   "metadata": {},
   "outputs": [
    {
     "data": {
      "text/plain": [
       "array([[0.        , 0.        , 0.        , ..., 0.        , 0.        ,\n",
       "        0.        ],\n",
       "       [0.        , 0.        , 0.        , ..., 0.        , 0.        ,\n",
       "        0.        ],\n",
       "       [0.06168705, 0.        , 0.        , ..., 0.        , 0.        ,\n",
       "        0.        ],\n",
       "       ...,\n",
       "       [0.        , 0.        , 0.        , ..., 0.        , 0.        ,\n",
       "        0.        ],\n",
       "       [0.19312382, 0.        , 0.        , ..., 0.        , 0.        ,\n",
       "        0.        ],\n",
       "       [0.        , 0.        , 0.        , ..., 0.        , 0.        ,\n",
       "        0.        ]])"
      ]
     },
     "execution_count": 94,
     "metadata": {},
     "output_type": "execute_result"
    }
   ],
   "source": [
    "train_tokens"
   ]
  },
  {
   "cell_type": "code",
   "execution_count": 43,
   "metadata": {},
   "outputs": [
    {
     "data": {
      "text/plain": [
       "167"
      ]
     },
     "execution_count": 43,
     "metadata": {},
     "output_type": "execute_result"
    }
   ],
   "source": [
    "vectorizer=CountVectorizer(stop_words=stopwords_list,min_df=5,max_df=.3)\n",
    "tokens_train=vectorizer.fit_transform(X_train).toarray()\n",
    "tokens_train[0].sum()"
   ]
  },
  {
   "cell_type": "code",
   "execution_count": 44,
   "metadata": {},
   "outputs": [
    {
     "data": {
      "text/plain": [
       "(32000, 30265)"
      ]
     },
     "execution_count": 44,
     "metadata": {},
     "output_type": "execute_result"
    }
   ],
   "source": [
    "tokens_train.shape"
   ]
  },
  {
   "cell_type": "markdown",
   "metadata": {},
   "source": [
    "# Baseline Model w/ Naive Bayes"
   ]
  },
  {
   "cell_type": "code",
   "execution_count": 21,
   "metadata": {},
   "outputs": [],
   "source": [
    "#Create a train and validation set\n",
    "train_X, val_X, train_y, val_y = train_test_split(X_train,\n",
    "                                                  y_train,\n",
    "                                                  test_size=.2,\n",
    "                                                  random_state=40)"
   ]
  },
  {
   "cell_type": "markdown",
   "metadata": {},
   "source": [
    "CountVectorizer will be used on original text with the desired characteristics outlined in the data exploration above in order to get the model features."
   ]
  },
  {
   "cell_type": "markdown",
   "metadata": {},
   "source": [
    "## Count Vectorization"
   ]
  },
  {
   "cell_type": "code",
   "execution_count": 23,
   "metadata": {},
   "outputs": [],
   "source": [
    "vectorizer=CountVectorizer(stop_words=stopwords_list,max_features=10000)\n",
    "tokens_train=vectorizer.fit_transform(X_train).toarray()"
   ]
  },
  {
   "cell_type": "code",
   "execution_count": 39,
   "metadata": {},
   "outputs": [
    {
     "data": {
      "text/plain": [
       "array([0.73828125, 0.75203125, 0.7396875 , 0.73375   , 0.7403125 ])"
      ]
     },
     "execution_count": 39,
     "metadata": {},
     "output_type": "execute_result"
    }
   ],
   "source": [
    "baseline=GaussianNB()\n",
    "baseline.fit(tokens_train,y_train)\n",
    "\n",
    "results=cross_val_score(baseline,tokens_train,y_train)\n",
    "results"
   ]
  },
  {
   "cell_type": "code",
   "execution_count": null,
   "metadata": {},
   "outputs": [],
   "source": [
    "#Try different max_features to see which has best results"
   ]
  },
  {
   "cell_type": "code",
   "execution_count": 40,
   "metadata": {},
   "outputs": [
    {
     "data": {
      "text/plain": [
       "{100: array([0.68875   , 0.70234375, 0.69625   , 0.6840625 , 0.68328125]),\n",
       " 1000: array([0.8103125 , 0.8125    , 0.80671875, 0.80390625, 0.8078125 ]),\n",
       " 5000: array([0.73828125, 0.75203125, 0.7396875 , 0.73375   , 0.7403125 ]),\n",
       " 10000: array([0.7171875 , 0.72625   , 0.7034375 , 0.70703125, 0.7203125 ])}"
      ]
     },
     "execution_count": 40,
     "metadata": {},
     "output_type": "execute_result"
    }
   ],
   "source": [
    "max_to_try=[100,1000,5000,10000]\n",
    "results={}\n",
    "\n",
    "for m in max_to_try:\n",
    "    vectorizer=CountVectorizer(stop_words=stopwords_list,max_features=m)\n",
    "    tokens_train=vectorizer.fit_transform(X_train).toarray()\n",
    "    \n",
    "    baseline=GaussianNB()\n",
    "    baseline.fit(tokens_train,y_train)\n",
    "\n",
    "    results[m]=cross_val_score(baseline,tokens_train,y_train)\n",
    "    \n",
    "results"
   ]
  },
  {
   "cell_type": "markdown",
   "metadata": {},
   "source": [
    "## TFIDF Vectorization"
   ]
  },
  {
   "cell_type": "code",
   "execution_count": 23,
   "metadata": {},
   "outputs": [],
   "source": [
    "def correct_spelling(tokens):\n",
    "    spell=SpellChecker()\n",
    "    fixed=[spell.correction(t) if len(spell.unknown([t]))>0 else t for t in tokens]\n",
    "    return fixed"
   ]
  },
  {
   "cell_type": "code",
   "execution_count": 24,
   "metadata": {},
   "outputs": [
    {
     "data": {
      "text/plain": [
       "['red', 'hi', 'doggy', 'movie']"
      ]
     },
     "execution_count": 24,
     "metadata": {},
     "output_type": "execute_result"
    }
   ],
   "source": [
    "test=['hredf','hi','doggy','mvie']\n",
    "correct_spelling(test)"
   ]
  },
  {
   "cell_type": "code",
   "execution_count": 24,
   "metadata": {},
   "outputs": [
    {
     "data": {
      "text/plain": [
       "0.81509375"
      ]
     },
     "execution_count": 24,
     "metadata": {},
     "output_type": "execute_result"
    }
   ],
   "source": [
    "tfidf = TfidfVectorizer(max_features=1000,stop_words=stopwords_list)\n",
    "\n",
    "# Fit the vectorizer on X_train[\"text\"] and transform it\n",
    "X_train_vectorized = tfidf.fit_transform(X_train).toarray()\n",
    "\n",
    "tfidf_model=GaussianNB()\n",
    "tfidf_model.fit(X_train_vectorized,y_train)\n",
    "\n",
    "results=cross_val_score(tfidf_model,X_train_vectorized,y_train)\n",
    "results.mean()"
   ]
  },
  {
   "cell_type": "code",
   "execution_count": 39,
   "metadata": {},
   "outputs": [
    {
     "data": {
      "text/plain": [
       "{1000: 0.81509375, 15000: 0.7502812500000001}"
      ]
     },
     "execution_count": 39,
     "metadata": {},
     "output_type": "execute_result"
    }
   ],
   "source": [
    "max_to_try=[1000,15000]\n",
    "results={}\n",
    "\n",
    "for m in max_to_try:\n",
    "    tfidf = TfidfVectorizer(max_features=m,stop_words=stopwords_list)\n",
    "    X_train_vectorized = tfidf.fit_transform(X_train).toarray()\n",
    "\n",
    "    tfidf_model=GaussianNB()\n",
    "    tfidf_model.fit(X_train_vectorized,y_train)\n",
    "\n",
    "    cv=cross_val_score(tfidf_model,X_train_vectorized,y_train)\n",
    "    results[m]=cv.mean()\n",
    "    \n",
    "results"
   ]
  },
  {
   "cell_type": "markdown",
   "metadata": {},
   "source": [
    "## Add Lemmatization"
   ]
  },
  {
   "cell_type": "code",
   "execution_count": 64,
   "metadata": {},
   "outputs": [],
   "source": [
    "test=X_train[5]"
   ]
  },
  {
   "cell_type": "code",
   "execution_count": 25,
   "metadata": {},
   "outputs": [],
   "source": [
    "#Custom tokenizer with Lemmatization\n",
    "pattern = \"([a-zA-Z]+(?:'[a-z]+)?)\"\n",
    "\n",
    "def tokenize(text):\n",
    "    pattern = \"([a-zA-Z]+(?:'[a-z]+)?)\"\n",
    "    tokenizer=RegexpTokenizer(pattern)\n",
    "    tokens=tokenizer.tokenize(text)\n",
    "    lemmas = []\n",
    "    wnl=WordNetLemmatizer()\n",
    "    for item in tokens:\n",
    "        lemmas.append(wnl.lemmatize(item))\n",
    "    return lemmas\n"
   ]
  },
  {
   "cell_type": "code",
   "execution_count": 71,
   "metadata": {},
   "outputs": [],
   "source": [
    "#Custom tokenizer with Lemmatization\n",
    "pattern = \"([a-zA-Z]+(?:'[a-z]+)?)\"\n",
    "\n",
    "def tokenize(text):\n",
    "    pattern = \"([a-zA-Z]+(?:'[a-z]+)?)\"\n",
    "    tokenizer=RegexpTokenizer(pattern)\n",
    "    tokens=tokenizer.tokenize(text)\n",
    "    lemmas = []\n",
    "    wnl=WordNetLemmatizer()\n",
    "    for item in tokens:\n",
    "        lemmas.append(wnl.lemmatize(item))\n",
    "    return lemmas\n"
   ]
  },
  {
   "cell_type": "code",
   "execution_count": 72,
   "metadata": {},
   "outputs": [
    {
     "data": {
      "text/plain": [
       "36862    [ok, here, it, is, nazi, mountaineer, befriend...\n",
       "11768    [romance, is, in, the, air, and, love, is, in,...\n",
       "36393    [this, film, is, described, a, a, action, come...\n",
       "12031    [i, love, the, satan, pit, david, tennant, is,...\n",
       "27211    [i, could, never, stand, watching, happy, day,...\n",
       "                               ...                        \n",
       "31962    [this, film, grab, you, from, the, opening, sc...\n",
       "23452    [ok, so, it's, not, a, masterpiece, like, the,...\n",
       "23775    [jefferey, dahmer, wa, one, sick, guy, there's...\n",
       "37135    [unfortunately, this, ha, been, showing, on, s...\n",
       "27098    [johnny, dangerously, fall, completely, in, th...\n",
       "Name: text, Length: 32000, dtype: object"
      ]
     },
     "execution_count": 72,
     "metadata": {},
     "output_type": "execute_result"
    }
   ],
   "source": [
    "X_train.apply(tokenize)"
   ]
  },
  {
   "cell_type": "code",
   "execution_count": 84,
   "metadata": {},
   "outputs": [
    {
     "data": {
      "text/plain": [
       "0.8108124999999999"
      ]
     },
     "execution_count": 84,
     "metadata": {},
     "output_type": "execute_result"
    }
   ],
   "source": [
    "tfidf = TfidfVectorizer(max_features=1000,stop_words=stopwords_list,tokenizer=tokenize)\n",
    "\n",
    "# Fit the vectorizer on X_train[\"text\"] and transform it\n",
    "X_train_vectorized = tfidf.fit_transform(X_train).toarray()\n",
    "\n",
    "tfidf_model=GaussianNB()\n",
    "tfidf_model.fit(X_train_vectorized,y_train)\n",
    "\n",
    "results=cross_val_score(tfidf_model,X_train_vectorized,y_train)\n",
    "results.mean()"
   ]
  },
  {
   "cell_type": "markdown",
   "metadata": {},
   "source": [
    "Model actually performed slightly worse with lemmatization."
   ]
  },
  {
   "cell_type": "markdown",
   "metadata": {},
   "source": [
    "## Bigrams"
   ]
  },
  {
   "cell_type": "code",
   "execution_count": 1,
   "metadata": {},
   "outputs": [
    {
     "ename": "NameError",
     "evalue": "name 'TfidfVectorizer' is not defined",
     "output_type": "error",
     "traceback": [
      "\u001b[0;31m---------------------------------------------------------------------------\u001b[0m",
      "\u001b[0;31mNameError\u001b[0m                                 Traceback (most recent call last)",
      "\u001b[0;32m<ipython-input-1-1e64362a0851>\u001b[0m in \u001b[0;36m<module>\u001b[0;34m\u001b[0m\n\u001b[0;32m----> 1\u001b[0;31m tfidf = TfidfVectorizer(max_features=1000,\n\u001b[0m\u001b[1;32m      2\u001b[0m                         \u001b[0mngram_range\u001b[0m\u001b[0;34m=\u001b[0m\u001b[0;34m(\u001b[0m\u001b[0;36m1\u001b[0m\u001b[0;34m,\u001b[0m\u001b[0;36m2\u001b[0m\u001b[0;34m)\u001b[0m\u001b[0;34m,\u001b[0m\u001b[0;34m\u001b[0m\u001b[0;34m\u001b[0m\u001b[0m\n\u001b[1;32m      3\u001b[0m                         \u001b[0mmin_df\u001b[0m\u001b[0;34m=\u001b[0m\u001b[0;36m5\u001b[0m\u001b[0;34m,\u001b[0m\u001b[0;34m\u001b[0m\u001b[0;34m\u001b[0m\u001b[0m\n\u001b[1;32m      4\u001b[0m                         \u001b[0mmax_df\u001b[0m\u001b[0;34m=\u001b[0m\u001b[0;36m.3\u001b[0m\u001b[0;34m,\u001b[0m\u001b[0;34m\u001b[0m\u001b[0;34m\u001b[0m\u001b[0m\n\u001b[1;32m      5\u001b[0m                         stop_words=stopwords_list)\n",
      "\u001b[0;31mNameError\u001b[0m: name 'TfidfVectorizer' is not defined"
     ]
    }
   ],
   "source": [
    "tfidf = TfidfVectorizer(max_features=1000,\n",
    "                        ngram_range=(1,2),\n",
    "                        min_df=5,\n",
    "                        max_df=.3,\n",
    "                        stop_words=stopwords_list)\n",
    "\n",
    "# Fit the vectorizer on X_train[\"text\"] and transform it\n",
    "X_train_vectorized = tfidf.fit_transform(X_train).toarray()\n",
    "\n",
    "tfidf_model=GaussianNB()\n",
    "tfidf_model.fit(X_train_vectorized,y_train)\n",
    "\n",
    "results=cross_val_score(tfidf_model,X_train_vectorized,y_train)\n",
    "results.mean()"
   ]
  },
  {
   "cell_type": "code",
   "execution_count": 94,
   "metadata": {},
   "outputs": [
    {
     "data": {
      "text/plain": [
       "{1500: 0.82478125, 5000: 0.82659375, 7500: 0.8243124999999999, 10000: 0.8225}"
      ]
     },
     "execution_count": 94,
     "metadata": {},
     "output_type": "execute_result"
    }
   ],
   "source": [
    "max_to_try=[1500,5000,7500,10000]\n",
    "max_df_to_try=[.3,.5,.7]\n",
    "results={}\n",
    "\n",
    "for m in max_to_try:\n",
    "    tfidf = TfidfVectorizer(max_features=m,\n",
    "                        ngram_range=(1,2),\n",
    "                        min_df=5,\n",
    "                        max_df=.5,\n",
    "                        stop_words=stopwords_list)\n",
    "    X_train_vectorized = tfidf.fit_transform(X_train).toarray()\n",
    "\n",
    "    tfidf_model=GaussianNB()\n",
    "    tfidf_model.fit(X_train_vectorized,y_train)\n",
    "\n",
    "    cv=cross_val_score(tfidf_model,X_train_vectorized,y_train)\n",
    "    results[m]=cv.mean()\n",
    "    \n",
    "results"
   ]
  },
  {
   "cell_type": "code",
   "execution_count": 99,
   "metadata": {},
   "outputs": [
    {
     "data": {
      "text/plain": [
       "{(1500, 0.3, (1, 2)): 0.8240000000000001,\n",
       " (1500, 0.3, (2, 2)): 0.7584375,\n",
       " (1500, 0.3, (1, 3)): 0.8240000000000001,\n",
       " (1500, 0.3, (3, 3)): 0.6346875000000001,\n",
       " (1500, 0.5, (1, 2)): 0.82478125,\n",
       " (1500, 0.5, (2, 2)): 0.7584375,\n",
       " (1500, 0.5, (1, 3)): 0.8243750000000001,\n",
       " (1500, 0.5, (3, 3)): 0.6346875000000001,\n",
       " (1500, 0.7, (1, 2)): 0.8252499999999999,\n",
       " (1500, 0.7, (2, 2)): 0.7584375,\n",
       " (1500, 0.7, (1, 3)): 0.8251875,\n",
       " (1500, 0.7, (3, 3)): 0.6346875000000001,\n",
       " (5000, 0.3, (1, 2)): 0.826,\n",
       " (5000, 0.3, (2, 2)): 0.792875,\n",
       " (5000, 0.3, (1, 3)): 0.8258749999999999,\n",
       " (5000, 0.3, (3, 3)): 0.669125,\n",
       " (5000, 0.5, (1, 2)): 0.82659375,\n",
       " (5000, 0.5, (2, 2)): 0.792875,\n",
       " (5000, 0.5, (1, 3)): 0.826125,\n",
       " (5000, 0.5, (3, 3)): 0.669125,\n",
       " (5000, 0.7, (1, 2)): 0.82596875,\n",
       " (5000, 0.7, (2, 2)): 0.792875,\n",
       " (5000, 0.7, (1, 3)): 0.8262812499999999,\n",
       " (5000, 0.7, (3, 3)): 0.669125,\n",
       " (7500, 0.3, (1, 2)): 0.82409375,\n",
       " (7500, 0.3, (2, 2)): 0.8011874999999999,\n",
       " (7500, 0.3, (1, 3)): 0.8240624999999999,\n",
       " (7500, 0.3, (3, 3)): 0.67625,\n",
       " (7500, 0.5, (1, 2)): 0.8243124999999999,\n",
       " (7500, 0.5, (2, 2)): 0.8011874999999999,\n",
       " (7500, 0.5, (1, 3)): 0.82371875,\n",
       " (7500, 0.5, (3, 3)): 0.67625,\n",
       " (7500, 0.7, (1, 2)): 0.82434375,\n",
       " (7500, 0.7, (2, 2)): 0.8011874999999999,\n",
       " (7500, 0.7, (1, 3)): 0.8237500000000001,\n",
       " (7500, 0.7, (3, 3)): 0.67625}"
      ]
     },
     "execution_count": 99,
     "metadata": {},
     "output_type": "execute_result"
    }
   ],
   "source": [
    "ngrams=[(1,2),(2,2),(1,3),(3,3)]\n",
    "max_to_try=[1500,5000,7500]\n",
    "max_df_to_try=[.3,.5,.7]\n",
    "\n",
    "results={}\n",
    "\n",
    "for m in max_to_try:\n",
    "    for d in max_df_to_try:\n",
    "        for n in ngrams:\n",
    "            tfidf = TfidfVectorizer(max_features=m,\n",
    "                                ngram_range=n,\n",
    "                                min_df=5,\n",
    "                                max_df=d,\n",
    "                                stop_words=stopwords_list)\n",
    "            X_train_vectorized = tfidf.fit_transform(X_train).toarray()\n",
    "\n",
    "            tfidf_model=GaussianNB()\n",
    "            tfidf_model.fit(X_train_vectorized,y_train)\n",
    "\n",
    "            cv=cross_val_score(tfidf_model,X_train_vectorized,y_train)\n",
    "            results[(m,d,n)]=cv.mean()\n",
    "    \n",
    "results"
   ]
  },
  {
   "cell_type": "code",
   "execution_count": 107,
   "metadata": {
    "scrolled": true
   },
   "outputs": [
    {
     "data": {
      "text/plain": [
       "[((5000, 0.5, (1, 2)), 0.82659375),\n",
       " ((5000, 0.7, (1, 3)), 0.8262812499999999),\n",
       " ((5000, 0.5, (1, 3)), 0.826125),\n",
       " ((5000, 0.3, (1, 2)), 0.826),\n",
       " ((5000, 0.7, (1, 2)), 0.82596875),\n",
       " ((5000, 0.3, (1, 3)), 0.8258749999999999),\n",
       " ((1500, 0.7, (1, 2)), 0.8252499999999999),\n",
       " ((1500, 0.7, (1, 3)), 0.8251875),\n",
       " ((1500, 0.5, (1, 2)), 0.82478125),\n",
       " ((1500, 0.5, (1, 3)), 0.8243750000000001),\n",
       " ((7500, 0.7, (1, 2)), 0.82434375),\n",
       " ((7500, 0.5, (1, 2)), 0.8243124999999999),\n",
       " ((7500, 0.3, (1, 2)), 0.82409375),\n",
       " ((7500, 0.3, (1, 3)), 0.8240624999999999),\n",
       " ((1500, 0.3, (1, 2)), 0.8240000000000001),\n",
       " ((1500, 0.3, (1, 3)), 0.8240000000000001),\n",
       " ((7500, 0.7, (1, 3)), 0.8237500000000001),\n",
       " ((7500, 0.5, (1, 3)), 0.82371875),\n",
       " ((7500, 0.3, (2, 2)), 0.8011874999999999),\n",
       " ((7500, 0.5, (2, 2)), 0.8011874999999999),\n",
       " ((7500, 0.7, (2, 2)), 0.8011874999999999),\n",
       " ((5000, 0.3, (2, 2)), 0.792875),\n",
       " ((5000, 0.5, (2, 2)), 0.792875),\n",
       " ((5000, 0.7, (2, 2)), 0.792875),\n",
       " ((1500, 0.3, (2, 2)), 0.7584375),\n",
       " ((1500, 0.5, (2, 2)), 0.7584375),\n",
       " ((1500, 0.7, (2, 2)), 0.7584375),\n",
       " ((7500, 0.3, (3, 3)), 0.67625),\n",
       " ((7500, 0.5, (3, 3)), 0.67625),\n",
       " ((7500, 0.7, (3, 3)), 0.67625),\n",
       " ((5000, 0.3, (3, 3)), 0.669125),\n",
       " ((5000, 0.5, (3, 3)), 0.669125),\n",
       " ((5000, 0.7, (3, 3)), 0.669125),\n",
       " ((1500, 0.3, (3, 3)), 0.6346875000000001),\n",
       " ((1500, 0.5, (3, 3)), 0.6346875000000001),\n",
       " ((1500, 0.7, (3, 3)), 0.6346875000000001)]"
      ]
     },
     "execution_count": 107,
     "metadata": {},
     "output_type": "execute_result"
    }
   ],
   "source": [
    "sorted(list(zip(results.keys(),results.values())),key=lambda x:x[1],reverse=True)"
   ]
  },
  {
   "cell_type": "code",
   "execution_count": 25,
   "metadata": {},
   "outputs": [
    {
     "data": {
      "text/plain": [
       "[((0.2, (1, 2)), 0.82378125),\n",
       " ((0.3, (1, 2)), 0.8232812500000002),\n",
       " ((0.2, (1, 3)), 0.8229375000000001),\n",
       " ((0.3, (1, 3)), 0.82290625),\n",
       " ((0.3, (2, 2)), 0.8063437500000001),\n",
       " ((0.2, (2, 2)), 0.8063437500000001),\n",
       " ((0.3, (3, 3)), 0.67884375),\n",
       " ((0.2, (3, 3)), 0.67884375)]"
      ]
     },
     "execution_count": 25,
     "metadata": {},
     "output_type": "execute_result"
    }
   ],
   "source": [
    "ngrams=[(1,2),(2,2),(1,3),(3,3)]\n",
    "max_df_to_try=[.3,.2]\n",
    "\n",
    "results={}\n",
    "\n",
    "\n",
    "for d in max_df_to_try:\n",
    "    for n in ngrams:\n",
    "        tfidf = TfidfVectorizer(ngram_range=n,\n",
    "                            max_features=10000,\n",
    "                            min_df=5,\n",
    "                            max_df=d,\n",
    "                            stop_words=stopwords_list)\n",
    "        X_train_vectorized = tfidf.fit_transform(X_train).toarray()\n",
    "\n",
    "        tfidf_model=GaussianNB()\n",
    "        tfidf_model.fit(X_train_vectorized,y_train)\n",
    "\n",
    "        cv=cross_val_score(tfidf_model,X_train_vectorized,y_train)\n",
    "        results[(d,n)]=cv.mean()\n",
    "    \n",
    "sorted(list(zip(results.keys(),results.values())),key=lambda x:x[1],reverse=True)"
   ]
  },
  {
   "cell_type": "markdown",
   "metadata": {},
   "source": [
    "## Feature Selection w/ MI and Chi2"
   ]
  },
  {
   "cell_type": "code",
   "execution_count": 32,
   "metadata": {},
   "outputs": [],
   "source": [
    "vectorizer=CountVectorizer(binary=True,stop_words=stopwords_list)\n",
    "tokens_train=vectorizer.fit_transform(X_train).toarray()\n",
    "\n"
   ]
  },
  {
   "cell_type": "code",
   "execution_count": 36,
   "metadata": {},
   "outputs": [
    {
     "data": {
      "text/plain": [
       "{0.2: 0.8035937499999999,\n",
       " 0.3: 0.8080937499999999,\n",
       " 0.4: 0.8088437500000001,\n",
       " 0.5: 0.81459375}"
      ]
     },
     "execution_count": 36,
     "metadata": {},
     "output_type": "execute_result"
    }
   ],
   "source": [
    "percents=[.2,.3,.4,.5]\n",
    "results={}\n",
    "\n",
    "for p in percents:\n",
    "\n",
    "    selector=SelectPercentile(chi2,percentile=p)\n",
    "    train_selected=selector.fit_transform(tokens_train,y_train)\n",
    "    \n",
    "    model=GaussianNB()\n",
    "    model.fit(train_selected,y_train)\n",
    "\n",
    "    result=cross_val_score(model,train_selected,y_train)\n",
    "    results[p]=result.mean()\n",
    "    \n",
    "results"
   ]
  },
  {
   "cell_type": "code",
   "execution_count": 38,
   "metadata": {},
   "outputs": [
    {
     "data": {
      "text/plain": [
       "{0.7: 0.8203125, 0.8: 0.8205312500000002}"
      ]
     },
     "execution_count": 38,
     "metadata": {},
     "output_type": "execute_result"
    }
   ],
   "source": [
    "percents=[.7,.8]\n",
    "results={}\n",
    "\n",
    "for p in percents:\n",
    "\n",
    "    selector=SelectPercentile(chi2,percentile=p)\n",
    "    train_selected=selector.fit_transform(tokens_train,y_train)\n",
    "    \n",
    "    model=GaussianNB()\n",
    "    model.fit(train_selected,y_train)\n",
    "\n",
    "    result=cross_val_score(model,train_selected,y_train)\n",
    "    results[p]=result.mean()\n",
    "    \n",
    "results"
   ]
  },
  {
   "cell_type": "code",
   "execution_count": 40,
   "metadata": {},
   "outputs": [
    {
     "data": {
      "text/plain": [
       "{0.5: 0.82825, 0.7: 0.8323750000000001, 0.8: 0.8195}"
      ]
     },
     "execution_count": 40,
     "metadata": {},
     "output_type": "execute_result"
    }
   ],
   "source": [
    "vectorizer=CountVectorizer(binary=False,stop_words=stopwords_list)\n",
    "tokens_train=vectorizer.fit_transform(X_train).toarray()\n",
    "percents=[5,10,25]\n",
    "results={}\n",
    "\n",
    "for p in percents:\n",
    "\n",
    "    selector=SelectPercentile(chi2,percentile=p)\n",
    "    train_selected=selector.fit_transform(tokens_train,y_train)\n",
    "    \n",
    "    model=GaussianNB()\n",
    "    model.fit(train_selected,y_train)\n",
    "\n",
    "    result=cross_val_score(model,train_selected,y_train)\n",
    "    results[p]=result.mean()\n",
    "    \n",
    "results"
   ]
  },
  {
   "cell_type": "code",
   "execution_count": null,
   "metadata": {},
   "outputs": [],
   "source": [
    "vectorizer=CountVectorizer(binary=False,stop_words=stopwords_list)\n",
    "tokens_train=vectorizer.fit_transform(X_train).toarray()\n",
    "percents=[50,70]\n",
    "results={}\n",
    "\n",
    "for p in percents:\n",
    "\n",
    "    selector=SelectPercentile(chi2,percentile=p)\n",
    "    train_selected=selector.fit_transform(tokens_train,y_train)\n",
    "    \n",
    "    model=GaussianNB()\n",
    "    model.fit(train_selected,y_train)\n",
    "\n",
    "    result=cross_val_score(model,train_selected,y_train)\n",
    "    results[p]=result.mean()\n",
    "    \n",
    "results"
   ]
  },
  {
   "cell_type": "code",
   "execution_count": 97,
   "metadata": {},
   "outputs": [
    {
     "name": "stdout",
     "output_type": "stream",
     "text": [
      "(32000, 84469)\n",
      "(32000, 423)\n"
     ]
    }
   ],
   "source": [
    "vectorizer=CountVectorizer(binary=False,stop_words=stopwords_list)\n",
    "tokens_train=vectorizer.fit_transform(X_train).toarray()\n",
    "print(tokens_train.shape)\n",
    "selector=SelectPercentile(chi2,percentile=50)\n",
    "train_selected=selector.fit_transform(tokens_train,y_train)\n",
    "print(train_selected.shape)"
   ]
  },
  {
   "cell_type": "code",
   "execution_count": 98,
   "metadata": {},
   "outputs": [
    {
     "name": "stdout",
     "output_type": "stream",
     "text": [
      "(32000, 42234)\n"
     ]
    }
   ],
   "source": [
    "selector=SelectPercentile(chi2,percentile=50)\n",
    "train_selected=selector.fit_transform(tokens_train,y_train)\n",
    "print(train_selected.shape)"
   ]
  },
  {
   "cell_type": "code",
   "execution_count": 10,
   "metadata": {},
   "outputs": [
    {
     "data": {
      "text/plain": [
       "{0.7: 0.81840625, 0.8: 0.8239375000000001}"
      ]
     },
     "execution_count": 10,
     "metadata": {},
     "output_type": "execute_result"
    }
   ],
   "source": [
    "vectorizer=CountVectorizer(binary=False,stop_words=stopwords_list,\n",
    "                          ngram_range=(1,2),min_df=5,max_df=.6)\n",
    "tokens_train=vectorizer.fit_transform(X_train).toarray()\n",
    "percents=[.7,.8]\n",
    "results={}\n",
    "\n",
    "for p in percents:\n",
    "\n",
    "    selector=SelectPercentile(chi2,percentile=p)\n",
    "    train_selected=selector.fit_transform(tokens_train,y_train)\n",
    "    \n",
    "    model=GaussianNB()\n",
    "    model.fit(train_selected,y_train)\n",
    "\n",
    "    result=cross_val_score(model,train_selected,y_train)\n",
    "    results[p]=result.mean()\n",
    "    \n",
    "results"
   ]
  },
  {
   "cell_type": "markdown",
   "metadata": {},
   "source": [
    "## Mean Word Embeddings "
   ]
  },
  {
   "cell_type": "code",
   "execution_count": 26,
   "metadata": {},
   "outputs": [],
   "source": [
    "total_vocab=set([word for review in tokenized_train for word in review])"
   ]
  },
  {
   "cell_type": "code",
   "execution_count": 34,
   "metadata": {},
   "outputs": [
    {
     "name": "stdout",
     "output_type": "stream",
     "text": [
      "65074\n",
      "71.83194984104556\n"
     ]
    }
   ],
   "source": [
    "glove = {}\n",
    "count=0\n",
    "words=[]\n",
    "with open('glove.6B.300d.txt', 'rb') as f:\n",
    "    for line in f:\n",
    "        parts = line.split()\n",
    "        word = parts[0].decode('utf-8')\n",
    "        if word in total_vocab:\n",
    "            vector = np.array(parts[1:], dtype=np.float32)\n",
    "            glove[word] = vector\n",
    "            count+=1\n",
    "            words.append(word)\n",
    "print(count)\n",
    "print(count/len(total_vocab)*100)"
   ]
  },
  {
   "cell_type": "code",
   "execution_count": 38,
   "metadata": {},
   "outputs": [
    {
     "data": {
      "text/plain": [
       "25518"
      ]
     },
     "execution_count": 38,
     "metadata": {},
     "output_type": "execute_result"
    }
   ],
   "source": [
    "missing_words=[w for w in total_vocab if w not in words]\n",
    "len(missing_words)"
   ]
  },
  {
   "cell_type": "code",
   "execution_count": 21,
   "metadata": {},
   "outputs": [],
   "source": [
    "class W2vVectorizer(object):\n",
    "    \n",
    "    def __init__(self, w2v):\n",
    "        # Takes in a dictionary of words and vectors as input\n",
    "        self.w2v = w2v\n",
    "        if len(w2v) == 0:\n",
    "            self.dimensions = 0\n",
    "        else:\n",
    "            self.dimensions = len(w2v[next(iter(glove))])\n",
    "    \n",
    "    # Note: Even though it doesn't do anything, it's required that this object implement a fit method or else\n",
    "    # it can't be used in a scikit-learn pipeline  \n",
    "    def fit(self, X, y):\n",
    "        return self\n",
    "            \n",
    "    def transform(self, X):\n",
    "        return np.array([\n",
    "            np.mean([self.w2v[w] for w in words if w in self.w2v]\n",
    "                   or [np.zeros(self.dimensions)], axis=0) for words in X])"
   ]
  },
  {
   "cell_type": "code",
   "execution_count": 80,
   "metadata": {},
   "outputs": [],
   "source": [
    "wv=W2vVectorizer(glove)\n"
   ]
  },
  {
   "cell_type": "code",
   "execution_count": 81,
   "metadata": {},
   "outputs": [],
   "source": [
    "nb = Pipeline([('Word2Vec Vectorizer', W2vVectorizer(glove)),\n",
    "              ('Naive Bayes', GaussianNB())])"
   ]
  },
  {
   "cell_type": "code",
   "execution_count": 33,
   "metadata": {
    "scrolled": true
   },
   "outputs": [
    {
     "name": "stdout",
     "output_type": "stream",
     "text": [
      "[0.7075     0.70328125 0.70140625 0.706875   0.698125  ]\n"
     ]
    },
    {
     "data": {
      "text/plain": [
       "0.7034375"
      ]
     },
     "execution_count": 33,
     "metadata": {},
     "output_type": "execute_result"
    }
   ],
   "source": [
    "results=cross_val_score(nb,tokenized_train,y_train)\n",
    "print(results)\n",
    "results.mean()"
   ]
  },
  {
   "cell_type": "code",
   "execution_count": 58,
   "metadata": {},
   "outputs": [],
   "source": [
    "test=pd.Series(Counter(ns_tk_train[0]))"
   ]
  },
  {
   "cell_type": "code",
   "execution_count": 60,
   "metadata": {},
   "outputs": [
    {
     "data": {
      "text/plain": [
       "Index(['thunderbirds', 'school', 'wanted', 'one', 'sapiens'], dtype='object')"
      ]
     },
     "execution_count": 60,
     "metadata": {},
     "output_type": "execute_result"
    }
   ],
   "source": [
    "test[test>1].index"
   ]
  },
  {
   "cell_type": "code",
   "execution_count": 14,
   "metadata": {},
   "outputs": [],
   "source": [
    "def build_glove(file,tokens):\n",
    "    total_vocab=set([word for review in tokens for word in review])\n",
    "    glove = {}\n",
    "    count=0\n",
    "    words=[]\n",
    "    with open(file, 'rb') as f:\n",
    "        for line in f:\n",
    "            parts = line.split()\n",
    "            word = parts[0].decode('utf-8')\n",
    "            if word in total_vocab:\n",
    "                vector = np.array(parts[1:], dtype=np.float32)\n",
    "                glove[word] = vector\n",
    "                count+=1\n",
    "                words.append(word)\n",
    "    return glove, count, words"
   ]
  },
  {
   "cell_type": "code",
   "execution_count": 113,
   "metadata": {},
   "outputs": [],
   "source": [
    "#rank words by count and remove max/min\n",
    "\n",
    "def filter_words_by_count(data,max_df,min_count):\n",
    "    \n",
    "    vectorizer=CountVectorizer(stop_words=stopwords_list,max_df=max_df,min_df=min_count)\n",
    "    vectorizer.fit(X_train)\n",
    "    \n",
    "    #filter out words\n",
    "    words_to_keep=vectorizer.vocabulary_.keys()\n",
    "    print(len(words_to_keep))\n",
    "    filtered_data=data.apply(lambda tok: [w for w in tok if w in words_to_keep])\n",
    "    \n",
    "    return filtered_data\n",
    "    "
   ]
  },
  {
   "cell_type": "code",
   "execution_count": 83,
   "metadata": {},
   "outputs": [
    {
     "data": {
      "text/plain": [
       "(32000,)"
      ]
     },
     "execution_count": 83,
     "metadata": {},
     "output_type": "execute_result"
    }
   ],
   "source": [
    "ns_tk_train.shape"
   ]
  },
  {
   "cell_type": "code",
   "execution_count": 114,
   "metadata": {},
   "outputs": [
    {
     "name": "stdout",
     "output_type": "stream",
     "text": [
      "30265\n"
     ]
    }
   ],
   "source": [
    "filtered_train=filter_words_by_count(ns_tk_train,max_df=.3,min_count=5)"
   ]
  },
  {
   "cell_type": "code",
   "execution_count": 95,
   "metadata": {},
   "outputs": [
    {
     "data": {
      "text/plain": [
       "(32000,)"
      ]
     },
     "execution_count": 95,
     "metadata": {},
     "output_type": "execute_result"
    }
   ],
   "source": [
    "filtered_train.shape"
   ]
  },
  {
   "cell_type": "code",
   "execution_count": 117,
   "metadata": {},
   "outputs": [
    {
     "name": "stdout",
     "output_type": "stream",
     "text": [
      "74295\n",
      "[0.76859375 0.75515625 0.7590625  0.761875   0.7546875 ]\n"
     ]
    },
    {
     "data": {
      "text/plain": [
       "0.7598749999999999"
      ]
     },
     "execution_count": 117,
     "metadata": {},
     "output_type": "execute_result"
    }
   ],
   "source": [
    "glove,c,w=build_glove('glove.42B.300d.txt',ns_tk_train)\n",
    "print(c)\n",
    "\n",
    "nb = Pipeline([('Word2Vec Vectorizer', W2vVectorizer(glove)),\n",
    "              ('Naive Bayes', GaussianNB())])\n",
    "\n",
    "results=cross_val_score(nb,ns_tk_train,y_train)\n",
    "print(results)\n",
    "results.mean()"
   ]
  },
  {
   "cell_type": "code",
   "execution_count": 118,
   "metadata": {},
   "outputs": [
    {
     "name": "stdout",
     "output_type": "stream",
     "text": [
      "29811\n",
      "[0.77921875 0.76109375 0.77140625 0.77078125 0.76359375]\n"
     ]
    },
    {
     "data": {
      "text/plain": [
       "0.76921875"
      ]
     },
     "execution_count": 118,
     "metadata": {},
     "output_type": "execute_result"
    }
   ],
   "source": [
    "glove,c,w=build_glove('glove.42B.300d.txt',filtered_train)\n",
    "print(c)\n",
    "\n",
    "nb = Pipeline([('Word2Vec Vectorizer', W2vVectorizer(glove)),\n",
    "              ('Naive Bayes', GaussianNB())])\n",
    "\n",
    "results=cross_val_score(nb,filtered_train,y_train)\n",
    "print(results)\n",
    "results.mean()"
   ]
  },
  {
   "cell_type": "markdown",
   "metadata": {},
   "source": [
    "## Best Naive Bayes Model"
   ]
  },
  {
   "cell_type": "code",
   "execution_count": 9,
   "metadata": {},
   "outputs": [
    {
     "data": {
      "text/plain": [
       "0.8323750000000001"
      ]
     },
     "execution_count": 9,
     "metadata": {},
     "output_type": "execute_result"
    }
   ],
   "source": [
    "#best model below- plot confusion matrix\n",
    "vectorizer=CountVectorizer(binary=False,stop_words=stopwords_list)\n",
    "tokens_train=vectorizer.fit_transform(X_train).toarray()\n",
    "\n",
    "selector=SelectPercentile(chi2,percentile=.7)\n",
    "train_selected=selector.fit_transform(tokens_train,y_train)\n",
    "    \n",
    "nb_model=GaussianNB()\n",
    "nb_model.fit(train_selected,y_train)\n",
    "\n",
    "result=cross_val_score(nb_model,train_selected,y_train)\n",
    "result.mean()"
   ]
  },
  {
   "cell_type": "code",
   "execution_count": 12,
   "metadata": {},
   "outputs": [],
   "source": [
    "tokens_test=vectorizer.transform(X_test).toarray()\n",
    "test_selected=selector.transform(tokens_test)"
   ]
  },
  {
   "cell_type": "code",
   "execution_count": 13,
   "metadata": {
    "scrolled": true
   },
   "outputs": [
    {
     "data": {
      "text/plain": [
       "<sklearn.metrics._plot.confusion_matrix.ConfusionMatrixDisplay at 0x7f889956bb20>"
      ]
     },
     "execution_count": 13,
     "metadata": {},
     "output_type": "execute_result"
    },
    {
     "data": {
      "image/png": "[encoded data removed]",
      "text/plain": [
       "<Figure size 432x288 with 2 Axes>"
      ]
     },
     "metadata": {
      "needs_background": "light"
     },
     "output_type": "display_data"
    }
   ],
   "source": [
    "plot_confusion_matrix(nb_model,test_selected,y_test)"
   ]
  },
  {
   "cell_type": "markdown",
   "metadata": {},
   "source": [
    "# Logistic Regression"
   ]
  },
  {
   "cell_type": "markdown",
   "metadata": {},
   "source": [
    "Try Logreg with count/tfidf vectors, stemming, n-grams"
   ]
  },
  {
   "cell_type": "code",
   "execution_count": 11,
   "metadata": {},
   "outputs": [
    {
     "name": "stdout",
     "output_type": "stream",
     "text": [
      "[0.85421875 0.85734375 0.85875    0.8571875  0.86359375]\n"
     ]
    },
    {
     "data": {
      "text/plain": [
       "0.85821875"
      ]
     },
     "execution_count": 11,
     "metadata": {},
     "output_type": "execute_result"
    }
   ],
   "source": [
    "vectorizer=CountVectorizer(stop_words=stopwords_list,max_features=5000)\n",
    "tokens_train=vectorizer.fit_transform(X_train).toarray()\n",
    "\n",
    "logreg=LogisticRegression(max_iter=500)\n",
    "\n",
    "logreg.fit(tokens_train,y_train)\n",
    "results=cross_val_score(logreg,tokens_train,y_train)\n",
    "print(results)\n",
    "results.mean()"
   ]
  }
 ],
 "metadata": {
  "kernelspec": {
   "display_name": "Python (learn-env)",
   "language": "python",
   "name": "learn-env"
  },
  "language_info": {
   "codemirror_mode": {
    "name": "ipython",
    "version": 3
   },
   "file_extension": ".py",
   "mimetype": "text/x-python",
   "name": "python",
   "nbconvert_exporter": "python",
   "pygments_lexer": "ipython3",
   "version": "3.8.5"
  },
  "toc": {
   "base_numbering": 1,
   "nav_menu": {},
   "number_sections": true,
   "sideBar": true,
   "skip_h1_title": false,
   "title_cell": "Table of Contents",
   "title_sidebar": "Contents",
   "toc_cell": false,
   "toc_position": {
    "height": "calc(100% - 180px)",
    "left": "10px",
    "top": "150px",
    "width": "269px"
   },
   "toc_section_display": true,
   "toc_window_display": true
  }
 },
 "nbformat": 4,
 "nbformat_minor": 4
}
